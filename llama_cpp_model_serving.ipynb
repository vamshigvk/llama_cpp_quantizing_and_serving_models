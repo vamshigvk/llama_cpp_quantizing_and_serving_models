{
 "cells": [
  {
   "cell_type": "markdown",
   "id": "6ad9c282-34b5-4282-844f-37d582809707",
   "metadata": {},
   "source": [
    "!git clone https://github.com/ggerganov/llama.cpp"
   ]
  },
  {
   "cell_type": "markdown",
   "id": "dd9a8cf8-25f9-43e4-922e-2a08f808287f",
   "metadata": {},
   "source": [
    "!pip install -r ./llama.cpp/requirements.txt"
   ]
  },
  {
   "cell_type": "markdown",
   "id": "da30313d-ecc0-4cd6-a622-a0c05a0555f5",
   "metadata": {},
   "source": [
    "### download model from huggingface hub"
   ]
  },
  {
   "cell_type": "code",
   "execution_count": 1,
   "id": "2ad6b471-3b4b-4335-ba65-39c20b2ecdaf",
   "metadata": {},
   "outputs": [],
   "source": [
    "from huggingface_hub import snapshot_download"
   ]
  },
  {
   "cell_type": "code",
   "execution_count": 2,
   "id": "ef9a9285-ced7-4a85-b451-ae0cb294dca8",
   "metadata": {},
   "outputs": [],
   "source": [
    "model_name = \"mistralai/Mistral-7B-Instruct-v0.3\""
   ]
  },
  {
   "cell_type": "code",
   "execution_count": 3,
   "id": "ec91f738-1381-4a80-93da-3fb1542ed35c",
   "metadata": {},
   "outputs": [
    {
     "name": "stdout",
     "output_type": "stream",
     "text": [
      "The token has not been saved to the git credentials helper. Pass `add_to_git_credential=True` in this function directly or `--add-to-git-credential` if using via `huggingface-cli` if you want to set the git credential as well.\n",
      "Token is valid (permission: write).\n",
      "Your token has been saved to C:\\Users\\Vamshi Krishna Gundu\\.cache\\huggingface\\token\n",
      "Login successful\n"
     ]
    }
   ],
   "source": [
    "from huggingface_hub import login\n",
    "login(token=\"<your_token>\")"
   ]
  },
  {
   "cell_type": "markdown",
   "id": "cc687b86-bf9d-4907-8a0b-bd7a73d0b57f",
   "metadata": {},
   "source": [
    "### building llama.cpp repo"
   ]
  },
  {
   "cell_type": "code",
   "execution_count": 4,
   "id": "8c8df0de-a9d0-4098-858c-c70e82cafe9c",
   "metadata": {},
   "outputs": [
    {
     "name": "stderr",
     "output_type": "stream",
     "text": [
      "'C:\\Users\\Vamshi' is not recognized as an internal or external command,\n",
      "operable program or batch file.\n",
      "'cmake' is not recognized as an internal or external command,\n",
      "operable program or batch file.\n",
      "'C:\\Users\\Vamshi' is not recognized as an internal or external command,\n",
      "operable program or batch file.\n",
      "'cmake' is not recognized as an internal or external command,\n",
      "operable program or batch file.\n"
     ]
    }
   ],
   "source": [
    "!cmake -B build\n",
    "!cmake --build build --config Release -t llama-server"
   ]
  },
  {
   "cell_type": "markdown",
   "id": "e7c33a7d-a8bd-4ba5-b8a4-c4d48c89c00d",
   "metadata": {},
   "source": [
    "### serving model with llama.cpp"
   ]
  },
  {
   "cell_type": "code",
   "execution_count": null,
   "id": "70947b25-dda9-4bf6-9081-4e49a5969bba",
   "metadata": {},
   "outputs": [],
   "source": [
    "!llama-server.exe -m models\\7B\\ggml-model.gguf -c 2048"
   ]
  }
 ],
 "metadata": {
  "kernelspec": {
   "display_name": "Python 3 (ipykernel)",
   "language": "python",
   "name": "python3"
  },
  "language_info": {
   "codemirror_mode": {
    "name": "ipython",
    "version": 3
   },
   "file_extension": ".py",
   "mimetype": "text/x-python",
   "name": "python",
   "nbconvert_exporter": "python",
   "pygments_lexer": "ipython3",
   "version": "3.11.2"
  }
 },
 "nbformat": 4,
 "nbformat_minor": 5
}
